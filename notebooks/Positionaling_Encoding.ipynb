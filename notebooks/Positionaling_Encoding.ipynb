{
  "cells": [
    {
      "cell_type": "code",
      "execution_count": 1,
      "metadata": {
        "colab": {
          "base_uri": "https://localhost:8080/"
        },
        "id": "y5kYOEDy5qsN",
        "outputId": "b4c60f49-a960-4eb4-954f-836b0609c647"
      },
      "outputs": [
        {
          "name": "stdout",
          "output_type": "stream",
          "text": [
            "Positional Encoding (d_model=6):\n",
            "\n",
            "            d0        d1        d2        d3        d4        d5\n",
            "my    0.000000  1.000000  0.000000  1.000000  0.000000  1.000000\n",
            "name  0.841471  0.540302  0.046399  0.998923  0.002154  0.999998\n",
            "is    0.909297 -0.416147  0.092699  0.995694  0.004309  0.999991\n",
            "x     0.141120 -0.989992  0.138798  0.990321  0.006463  0.999979\n"
          ]
        }
      ],
      "source": [
        "import numpy as np\n",
        "import pandas as pd\n",
        "\n",
        "# Sentence and tokens\n",
        "sentence = \"my name is x\"\n",
        "tokens = sentence.split()\n",
        "seq_len = len(tokens)\n",
        "d_model = 6\n",
        "\n",
        "def positional_encoding(seq_len, d_model):\n",
        "    \"\"\"\n",
        "    Sinusoidal positional encoding from 'Attention Is All You Need'\n",
        "    \"\"\"\n",
        "    pe = np.zeros((seq_len, d_model))\n",
        "    position = np.arange(seq_len)[:, np.newaxis]  # shape (seq_len, 1)\n",
        "    div_term = np.exp(np.arange(0, d_model, 2) * -(np.log(10000.0) / d_model))\n",
        "\n",
        "    # Even indices = sin, Odd indices = cos\n",
        "    pe[:, 0::2] = np.sin(position * div_term)\n",
        "    pe[:, 1::2] = np.cos(position * div_term)\n",
        "    return pe\n",
        "\n",
        "# Compute encoding\n",
        "pe = positional_encoding(seq_len, d_model)\n",
        "\n",
        "df = pd.DataFrame(pe, index=tokens, columns=[f\"d{i}\" for i in range(d_model)])\n",
        "\n",
        "print(\"Positional Encoding (d_model=6):\\n\")\n",
        "print(df.to_string())\n"
      ]
    }
  ],
  "metadata": {
    "accelerator": "GPU",
    "colab": {
      "gpuType": "T4",
      "provenance": []
    },
    "kernelspec": {
      "display_name": "Python 3",
      "name": "python3"
    },
    "language_info": {
      "name": "python"
    }
  },
  "nbformat": 4,
  "nbformat_minor": 0
}
